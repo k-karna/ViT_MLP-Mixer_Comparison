{
 "cells": [
  {
   "cell_type": "markdown",
   "metadata": {},
   "source": [
    "### __MLP-Mixer__"
   ]
  },
  {
   "cell_type": "code",
   "execution_count": 1,
   "metadata": {},
   "outputs": [],
   "source": [
    "import os \n",
    "import numpy as np \n",
    "import pandas as pd \n",
    "import torch \n",
    "import torchvision \n",
    "import torch.nn as nn \n",
    "import torch.nn.functional as F\n",
    "import torch.optim as optim \n",
    "import matplotlib.pyplot as plt\n",
    "%matplotlib inline\n",
    "import seaborn as sns \n",
    "\n",
    "from torchvision.transforms import v2 \n",
    "from tqdm import tqdm "
   ]
  },
  {
   "cell_type": "markdown",
   "metadata": {},
   "source": [
    "We will again be implementing our __MLP-Mixer__ model on __CIFAR10__ dataset. This dataset has $60,000$ images of size $32 \\times 32$ in 10 classes with $6000$ image per class, so fairly balanced. This dataset, in addition, is already divided into $50,000$ training and $10,000$ test images. \n",
    "\n",
    "We will split $5,000$ off of training to create a validation set, leaving training set with $45,000$"
   ]
  },
  {
   "cell_type": "code",
   "execution_count": 2,
   "metadata": {},
   "outputs": [
    {
     "name": "stdout",
     "output_type": "stream",
     "text": [
      "Files already downloaded and verified\n"
     ]
    }
   ],
   "source": [
    "#getting test_set first to capture mean and std\n",
    "from torchvision.datasets import CIFAR10\n",
    "\n",
    "root = \"./data\"\n",
    "test_set = CIFAR10(root=root, train=False, download=True, transform=None)"
   ]
  },
  {
   "cell_type": "code",
   "execution_count": 3,
   "metadata": {},
   "outputs": [],
   "source": [
    "def compute_mean_std(dataset):\n",
    "    \"\"\"\"\n",
    "    To compute Mean and Standard Deviation for each channel\n",
    "    \"\"\"\n",
    "\n",
    "    mean = torch.zeros(3)  \n",
    "    std = torch.zeros(3)   \n",
    "    total_pixels = 0\n",
    "\n",
    "    for image, _ in dataset:\n",
    "        image = v2.Compose([v2.ToImage(), v2.ToDtype(torch.float32, scale=True)])(image)  # Converting images to tensors\n",
    "        image = image.view(3, -1)  # Flattening the image to [3, height*width]\n",
    "        mean += image.sum(dim=1)   # getting the sum of pixel values for each channel\n",
    "        std += (image ** 2).sum(dim=1)  #getting the sum of squared pixel values for each channel\n",
    "        total_pixels += image.size(1)\n",
    "\n",
    "    # Computing the mean and std across the entire dataset\n",
    "    mean /= total_pixels\n",
    "    std = torch.sqrt(std / total_pixels - (mean ** 2))\n",
    "\n",
    "    return mean.tolist(), std.tolist()"
   ]
  },
  {
   "cell_type": "code",
   "execution_count": 4,
   "metadata": {},
   "outputs": [],
   "source": [
    "#Getting Mean and Standard Deviation from earlier defined function, \n",
    "# and apply transformation using it through Normalize and other augmentation\n",
    "\n",
    "mean, std = compute_mean_std(test_set)\n",
    "\n",
    "train_transform = v2.Compose([\n",
    "    v2.ToImage(),\n",
    "    v2.ToDtype(torch.float32, scale=True),\n",
    "    v2.RandomHorizontalFlip(),\n",
    "    v2.RandomResizedCrop((32, 32), scale=(0.8, 1.0), ratio=(0.9, 1.1)),\n",
    "    v2.Normalize(mean=mean, std=std)\n",
    "])\n",
    "\n",
    "test_transform = v2.Compose([\n",
    "    v2.ToImage(),\n",
    "    v2.ToDtype(torch.float32, scale=True),\n",
    "    v2.Normalize(mean=mean, std=std)\n",
    "])"
   ]
  },
  {
   "cell_type": "markdown",
   "metadata": {},
   "source": [
    "Downloading training set as well, separating validation set out of training set, appling augmentations, and finally creating DATALOADER for each subsets"
   ]
  },
  {
   "cell_type": "code",
   "execution_count": 5,
   "metadata": {},
   "outputs": [
    {
     "name": "stdout",
     "output_type": "stream",
     "text": [
      "Files already downloaded and verified\n",
      "Files already downloaded and verified\n",
      "Files already downloaded and verified\n"
     ]
    }
   ],
   "source": [
    "from torch.utils.data import DataLoader\n",
    "\n",
    "train_set = CIFAR10(root=root, train=True, transform=train_transform, download=True)\n",
    "\n",
    "#again same for validation set, this is to different augmentatio application \n",
    "validation_set = CIFAR10(root=root, train=True, transform=test_transform, download=True)\n",
    "test_set = CIFAR10(root=root, train=False, transform=test_transform, download=True)\n",
    "\n",
    "#separating out distinct train_set and validation set\n",
    "train_set, _ = torch.utils.data.random_split(train_set, [45000, 5000],generator=torch.Generator().manual_seed(42))\n",
    "_, validation_set = torch.utils.data.random_split(validation_set, [45000, 5000], generator=torch.Generator().manual_seed(42))\n",
    "\n",
    "\n",
    "#Next, creating DataLoader(s)\n",
    "train_loader = DataLoader(train_set, batch_size=128, shuffle=True, drop_last=True,num_workers=2, pin_memory=True)\n",
    "validation_loader = DataLoader(validation_set, batch_size=128, shuffle=True, drop_last=False ,num_workers=2)\n",
    "test_loader = DataLoader(test_set, batch_size=128, shuffle=True, drop_last=False, num_workers=2)"
   ]
  },
  {
   "cell_type": "markdown",
   "metadata": {},
   "source": [
    "## __MLP-Mixer Architecture__"
   ]
  },
  {
   "cell_type": "markdown",
   "metadata": {},
   "source": [
    "\n",
    "Just like ViT model, __MLP-Mixer__ also takes input  as a sequence of $S$ non-overlapping image patches. If the input image has resolution $(H, W)$ and we have decided on ``patch_size`` $P$, then the number of patches would be $S = \\frac{H× W}{P^2}$"
   ]
  },
  {
   "cell_type": "markdown",
   "metadata": {},
   "source": [
    "Next, MLP-Mixer architecture takes these sequence of patches resulted as a table of $X∈ \\mathbb{R}^{S× C}$ or __patches x channels__ and pass it into two MLP blocks i.e., __token mixing__ and __channel mixing__"
   ]
  },
  {
   "cell_type": "markdown",
   "metadata": {},
   "source": [
    "- __Token-mixing MLP__ acts on column of $X$ i.e, it operates independently on each channel, applying same weight to every token of a column.\n",
    "\n",
    "- __Channel-mixing MLP__ acts on row of $X$ it operates independently on each row of tokens, providing positional invariance \n",
    "\n",
    "Both MLP blocks contains two fully-connected layers with a non-linearity (GELU) in between. \n",
    "\n"
   ]
  },
  {
   "cell_type": "markdown",
   "metadata": {},
   "source": [
    "Additionally, in MLP-Mixer architecture, __skip connections__ are added in both MLPs (token-mixing or channel_mixing) to stabilize training, and __Layer Normalization__ is also applied before each MLP to normalize the inputs.\n",
    "\n",
    "It can be written as :\n",
    "\n",
    "$$U_{*, i} = X_{*,i} + W_2 σ (W_1 \\text{LayerNorm}(X)_{*,i}) \\qquad \\text{for}  i = 1\\cdots C$$\n",
    "\n",
    "$$Y_{j, *} = U_{j,*} + W_4 σ (W_3 \\text{LayerNorm}(U)_{j,*}) \\qquad \\text{for}  i = 1\\cdots S$$\n",
    "\n",
    "Lastly, a classification head with global average pooling layer is used with a linear classifier to get predictions on image labels"
   ]
  },
  {
   "cell_type": "markdown",
   "metadata": {},
   "source": [
    "Source: [Tolstikhin, I.O., Houlsby, N., Kolesnikov, A., Beyer, L., Zhai, X., Unterthiner, T., Yung, J., Steiner, A., Keysers, D., Uszkoreit, J. and Lucic, M., 2021. Mlp-mixer: An all-mlp architecture for vision. Advances in neural information processing systems, 34, pp.24261-24272.](https://proceedings.neurips.cc/paper/2021/file/cba0a4ee5ccd02fda0fe3f9a3e7b89fe-Paper.pdf)"
   ]
  },
  {
   "cell_type": "markdown",
   "metadata": {},
   "source": [
    "We can use ``img_to_patches`` function created for ViT here again."
   ]
  },
  {
   "cell_type": "code",
   "execution_count": 6,
   "metadata": {},
   "outputs": [],
   "source": [
    "def img_to_patch(img, patch_size, flatten_channels=True):\n",
    "    \"\"\"\n",
    "    Args:\n",
    "        img: image tensor with shape [B, C, H, w]\n",
    "            where \n",
    "            B: batch size (no. of images in a batch)\n",
    "            C: no. of color channels (3 in RGB)\n",
    "            H: Height of image\n",
    "            W: Width of image\n",
    "        patch_size: no. of pixels in each dimension of patch. if 4, we have 4x4 pixels\n",
    "        flatten_channel: A Boolean flag. If TRUE - flatten into feature vector, otherwise image grid\n",
    "    \"\"\"\n",
    "    B, C, H, W = img.shape\n",
    "    img = img.reshape(B, C, H//patch_size, patch_size, W//patch_size, patch_size)\n",
    "    img = img.permute(0, 2, 4, 1, 3, 5) #gives (B, C, H//patch_size, W//patch_size, patch_size, patch_size)\n",
    "    img = img.flatten(1,2) #[B, (H//patch_size * W//patch_size), C, patch_size, patch_size]\n",
    "    if flatten_channels:\n",
    "        img = img.flatten(2,4) #[B, (H//patch_size * W//patch_size), (C * patch_size * patch_size)]\n",
    "    return img"
   ]
  },
  {
   "cell_type": "code",
   "execution_count": 7,
   "metadata": {},
   "outputs": [],
   "source": [
    "class MlpBlock(nn.Module):\n",
    "    \n",
    "    def __init__(self, input_dim, mlp_dim, dropout=0.0):\n",
    "        super().__init__()\n",
    "\n",
    "        self.fc1 = nn.Linear(input_dim, mlp_dim) #mapping input_dim to hidden_dim\n",
    "        self.fc2 = nn.Linear(mlp_dim, input_dim) #mapping hidden_dim back to input_dim\n",
    "        self.dropout = nn.Dropout(dropout)\n",
    "\n",
    "    def forward(self, x):\n",
    "        x = self.fc1(x)\n",
    "        x = F.gelu(x)\n",
    "        x = self.dropout(x)\n",
    "        x = self.fc2(x)\n",
    "        return x\n",
    "\n",
    "class MixerBlock(nn.Module):\n",
    "    def __init__(self, num_patches, tokens_mlp_dim, channels_mlp_dim, hidden_dim, dropout):\n",
    "        super().__init__()\n",
    "        \n",
    "        #Layer Normalization for Token-Mixing MLP and Channel-Mixing MLP\n",
    "        self.norm1 = nn.LayerNorm(hidden_dim)\n",
    "        self.norm2 = nn.LayerNorm(hidden_dim)\n",
    "\n",
    "        #Token-Mixing MLP: Operates on the token dimension (num_patches)\n",
    "        self.token_mixing = MlpBlock(num_patches, tokens_mlp_dim, dropout)\n",
    "        #Channel-Mixing MLP: Operates on the Channel Dimension (hidden_dim)\n",
    "        #HIDDEN_DIM is actually Number of Channels\n",
    "        self.channel_mixing = MlpBlock(hidden_dim, channels_mlp_dim, dropout)\n",
    "\n",
    "    def forward(self, x):\n",
    "        \n",
    "        #Token-Mixing MLP\n",
    "        y = self.norm1(x)           #Shape: [B, num_patches, hidden_dim] \n",
    "        y = y.transpose(1, 2)       #Shape: [B, hidden_dim, num_patches]\n",
    "        y = self.token_mixing(y)    #Shape: [B, hidden_dim, num_patches]\n",
    "        y = y.transpose(1, 2)       #Shape: [B, num_patches, hidden_dim]\n",
    "        x = x + y                   #RESIDUAL Connection - Shape: [B, num_patches, hidden_dim]\n",
    "\n",
    "        # Channel-Mixing MLP\n",
    "        y = self.norm2(x)               # Shape: [B, num_patches, hidden_dim]\n",
    "        x = x + self.channel_mixing(y)  # Shape: [B, num_patches, hidden_dim]\n",
    "        return x"
   ]
  },
  {
   "cell_type": "code",
   "execution_count": 8,
   "metadata": {},
   "outputs": [],
   "source": [
    "class MlpMixer(nn.Module):\n",
    "    def __init__(self, patch_size, hidden_dim, tokens_mlp_dim, channels_mlp_dim, dropout):\n",
    "        \n",
    "        super().__init__()\n",
    "\n",
    "        self.patch_size = patch_size\n",
    "        self.hidden_dim = hidden_dim\n",
    "\n",
    "        H, W = 32, 32 \n",
    "        self.num_patches = (H // patch_size) * (W // patch_size)\n",
    "        self.patch_projection = nn.Linear(3 * patch_size * patch_size, hidden_dim)\n",
    "\n",
    "        self.mixer_block = MixerBlock(num_patches = self.num_patches,tokens_mlp_dim = tokens_mlp_dim,\n",
    "                channels_mlp_dim= channels_mlp_dim, hidden_dim = hidden_dim, dropout=dropout)\n",
    "\n",
    "        self.norm = nn.LayerNorm(hidden_dim)\n",
    "        self.head = nn.Linear(hidden_dim, 10) #Number of classes is 10\n",
    "\n",
    "    def forward(self, x):\n",
    "        \n",
    "        #Input shape: [B, C, H, W] = [batch_size, 3, 32, 32]\n",
    "        #IMG_TO_PATCH changes it to [B, num_patches, (C * patch_size * patch_size)]\n",
    "        x = img_to_patch(x, self.patch_size, flatten_channels=True) # In our case Shape [B, 64, 48] \n",
    "        x = self.patch_projection(x) # Shape: [B, num_patches, hidden_dim] In our case: [B, 64, 512]\n",
    "\n",
    "        x = self.mixer_block(x) # Shape: [B, num_patches, hidden_dim]\n",
    "        x = self.norm(x)        # Shape: [B, num_patches, hidden_dim]\n",
    "\n",
    "        #Global average pooling and Final classification\n",
    "        x = x.mean(dim=1)   #shape: [B, hidden_dim]\n",
    "        x = self.head(x)    #Shape: [B, 10]\n",
    "        return x"
   ]
  },
  {
   "cell_type": "code",
   "execution_count": 9,
   "metadata": {},
   "outputs": [],
   "source": [
    "# Hyperparameters\n",
    "patch_size = 4\n",
    "hidden_dim = 512\n",
    "tokens_mlp_dim = 256  # Should be >= num_tokens (64 for patch_size=4)\n",
    "channels_mlp_dim = 1024\n",
    "dropout = 0.2"
   ]
  },
  {
   "cell_type": "code",
   "execution_count": 10,
   "metadata": {},
   "outputs": [
    {
     "name": "stdout",
     "output_type": "stream",
     "text": [
      "Number of Training Parameters: 1,116,490\n"
     ]
    }
   ],
   "source": [
    "model = MlpMixer(patch_size, hidden_dim, tokens_mlp_dim, channels_mlp_dim, dropout)\n",
    "\n",
    "def count_parameters(model):\n",
    "    return sum(p.numel() for p in model.parameters() if p.requires_grad)\n",
    "print(f\"Number of Training Parameters: {count_parameters(model):,}\")"
   ]
  },
  {
   "cell_type": "code",
   "execution_count": 11,
   "metadata": {},
   "outputs": [
    {
     "name": "stderr",
     "output_type": "stream",
     "text": [
      "Epoch 1/30 - Training: 100%|██████████| 351/351 [03:15<00:00,  1.80it/s]\n",
      "Epoch 1/30 - Validation: 100%|██████████| 40/40 [00:14<00:00,  2.78it/s]\n"
     ]
    },
    {
     "name": "stdout",
     "output_type": "stream",
     "text": [
      "Epoch 1/30 || Train Loss: 1.7399, Train Acc: 35.66% || Val Loss: 1.5129, Val Acc: 45.60%\n"
     ]
    },
    {
     "name": "stderr",
     "output_type": "stream",
     "text": [
      "Epoch 2/30 - Training: 100%|██████████| 351/351 [03:10<00:00,  1.84it/s]\n",
      "Epoch 2/30 - Validation: 100%|██████████| 40/40 [00:15<00:00,  2.66it/s]\n"
     ]
    },
    {
     "name": "stdout",
     "output_type": "stream",
     "text": [
      "Epoch 2/30 || Train Loss: 1.4342, Train Acc: 47.98% || Val Loss: 1.3755, Val Acc: 51.56%\n"
     ]
    },
    {
     "name": "stderr",
     "output_type": "stream",
     "text": [
      "Epoch 3/30 - Training: 100%|██████████| 351/351 [03:20<00:00,  1.75it/s]\n",
      "Epoch 3/30 - Validation: 100%|██████████| 40/40 [00:14<00:00,  2.80it/s]\n"
     ]
    },
    {
     "name": "stdout",
     "output_type": "stream",
     "text": [
      "Epoch 3/30 || Train Loss: 1.3299, Train Acc: 52.05% || Val Loss: 1.3064, Val Acc: 53.98%\n"
     ]
    },
    {
     "name": "stderr",
     "output_type": "stream",
     "text": [
      "Epoch 4/30 - Training: 100%|██████████| 351/351 [03:18<00:00,  1.77it/s]\n",
      "Epoch 4/30 - Validation: 100%|██████████| 40/40 [00:14<00:00,  2.75it/s]\n"
     ]
    },
    {
     "name": "stdout",
     "output_type": "stream",
     "text": [
      "Epoch 4/30 || Train Loss: 1.2748, Train Acc: 54.00% || Val Loss: 1.3131, Val Acc: 54.02%\n"
     ]
    },
    {
     "name": "stderr",
     "output_type": "stream",
     "text": [
      "Epoch 5/30 - Training: 100%|██████████| 351/351 [03:20<00:00,  1.75it/s]\n",
      "Epoch 5/30 - Validation: 100%|██████████| 40/40 [00:14<00:00,  2.70it/s]\n"
     ]
    },
    {
     "name": "stdout",
     "output_type": "stream",
     "text": [
      "Epoch 5/30 || Train Loss: 1.2271, Train Acc: 55.78% || Val Loss: 1.2708, Val Acc: 56.34%\n"
     ]
    },
    {
     "name": "stderr",
     "output_type": "stream",
     "text": [
      "Epoch 6/30 - Training: 100%|██████████| 351/351 [03:18<00:00,  1.77it/s]\n",
      "Epoch 6/30 - Validation: 100%|██████████| 40/40 [00:14<00:00,  2.67it/s]\n"
     ]
    },
    {
     "name": "stdout",
     "output_type": "stream",
     "text": [
      "Epoch 6/30 || Train Loss: 1.1888, Train Acc: 57.15% || Val Loss: 1.1724, Val Acc: 58.92%\n"
     ]
    },
    {
     "name": "stderr",
     "output_type": "stream",
     "text": [
      "Epoch 7/30 - Training: 100%|██████████| 351/351 [03:23<00:00,  1.72it/s]\n",
      "Epoch 7/30 - Validation: 100%|██████████| 40/40 [00:15<00:00,  2.65it/s]\n"
     ]
    },
    {
     "name": "stdout",
     "output_type": "stream",
     "text": [
      "Epoch 7/30 || Train Loss: 1.1596, Train Acc: 58.40% || Val Loss: 1.1499, Val Acc: 59.48%\n"
     ]
    },
    {
     "name": "stderr",
     "output_type": "stream",
     "text": [
      "Epoch 8/30 - Training: 100%|██████████| 351/351 [03:24<00:00,  1.72it/s]\n",
      "Epoch 8/30 - Validation: 100%|██████████| 40/40 [00:14<00:00,  2.67it/s]\n"
     ]
    },
    {
     "name": "stdout",
     "output_type": "stream",
     "text": [
      "Epoch 8/30 || Train Loss: 1.1335, Train Acc: 59.35% || Val Loss: 1.1800, Val Acc: 58.48%\n"
     ]
    },
    {
     "name": "stderr",
     "output_type": "stream",
     "text": [
      "Epoch 9/30 - Training: 100%|██████████| 351/351 [03:22<00:00,  1.73it/s]\n",
      "Epoch 9/30 - Validation: 100%|██████████| 40/40 [00:15<00:00,  2.66it/s]\n"
     ]
    },
    {
     "name": "stdout",
     "output_type": "stream",
     "text": [
      "Epoch 9/30 || Train Loss: 1.1058, Train Acc: 60.48% || Val Loss: 1.1368, Val Acc: 60.54%\n"
     ]
    },
    {
     "name": "stderr",
     "output_type": "stream",
     "text": [
      "Epoch 10/30 - Training: 100%|██████████| 351/351 [03:13<00:00,  1.81it/s]\n",
      "Epoch 10/30 - Validation: 100%|██████████| 40/40 [00:14<00:00,  2.67it/s]\n"
     ]
    },
    {
     "name": "stdout",
     "output_type": "stream",
     "text": [
      "Epoch 10/30 || Train Loss: 1.0843, Train Acc: 61.28% || Val Loss: 1.1176, Val Acc: 60.46%\n"
     ]
    },
    {
     "name": "stderr",
     "output_type": "stream",
     "text": [
      "Epoch 11/30 - Training: 100%|██████████| 351/351 [03:21<00:00,  1.74it/s]\n",
      "Epoch 11/30 - Validation: 100%|██████████| 40/40 [00:14<00:00,  2.68it/s]\n"
     ]
    },
    {
     "name": "stdout",
     "output_type": "stream",
     "text": [
      "Epoch 11/30 || Train Loss: 1.0634, Train Acc: 61.87% || Val Loss: 1.0967, Val Acc: 61.66%\n"
     ]
    },
    {
     "name": "stderr",
     "output_type": "stream",
     "text": [
      "Epoch 12/30 - Training: 100%|██████████| 351/351 [03:24<00:00,  1.72it/s]\n",
      "Epoch 12/30 - Validation: 100%|██████████| 40/40 [00:15<00:00,  2.58it/s]\n"
     ]
    },
    {
     "name": "stdout",
     "output_type": "stream",
     "text": [
      "Epoch 12/30 || Train Loss: 1.0424, Train Acc: 62.82% || Val Loss: 1.0711, Val Acc: 61.90%\n"
     ]
    },
    {
     "name": "stderr",
     "output_type": "stream",
     "text": [
      "Epoch 13/30 - Training: 100%|██████████| 351/351 [03:38<00:00,  1.61it/s]\n",
      "Epoch 13/30 - Validation: 100%|██████████| 40/40 [00:15<00:00,  2.60it/s]\n"
     ]
    },
    {
     "name": "stdout",
     "output_type": "stream",
     "text": [
      "Epoch 13/30 || Train Loss: 1.0187, Train Acc: 63.82% || Val Loss: 1.0798, Val Acc: 62.12%\n"
     ]
    },
    {
     "name": "stderr",
     "output_type": "stream",
     "text": [
      "Epoch 14/30 - Training: 100%|██████████| 351/351 [03:26<00:00,  1.70it/s]\n",
      "Epoch 14/30 - Validation: 100%|██████████| 40/40 [00:15<00:00,  2.66it/s]\n"
     ]
    },
    {
     "name": "stdout",
     "output_type": "stream",
     "text": [
      "Epoch 14/30 || Train Loss: 1.0086, Train Acc: 64.08% || Val Loss: 1.0421, Val Acc: 63.74%\n"
     ]
    },
    {
     "name": "stderr",
     "output_type": "stream",
     "text": [
      "Epoch 15/30 - Training: 100%|██████████| 351/351 [03:24<00:00,  1.72it/s]\n",
      "Epoch 15/30 - Validation: 100%|██████████| 40/40 [00:15<00:00,  2.60it/s]\n"
     ]
    },
    {
     "name": "stdout",
     "output_type": "stream",
     "text": [
      "Epoch 15/30 || Train Loss: 0.9885, Train Acc: 64.86% || Val Loss: 1.0171, Val Acc: 64.42%\n"
     ]
    },
    {
     "name": "stderr",
     "output_type": "stream",
     "text": [
      "Epoch 16/30 - Training: 100%|██████████| 351/351 [03:22<00:00,  1.74it/s]\n",
      "Epoch 16/30 - Validation: 100%|██████████| 40/40 [00:15<00:00,  2.64it/s]\n"
     ]
    },
    {
     "name": "stdout",
     "output_type": "stream",
     "text": [
      "Epoch 16/30 || Train Loss: 0.9749, Train Acc: 65.44% || Val Loss: 1.0027, Val Acc: 64.08%\n"
     ]
    },
    {
     "name": "stderr",
     "output_type": "stream",
     "text": [
      "Epoch 17/30 - Training: 100%|██████████| 351/351 [03:22<00:00,  1.73it/s]\n",
      "Epoch 17/30 - Validation: 100%|██████████| 40/40 [00:15<00:00,  2.63it/s]\n"
     ]
    },
    {
     "name": "stdout",
     "output_type": "stream",
     "text": [
      "Epoch 17/30 || Train Loss: 0.9572, Train Acc: 66.13% || Val Loss: 1.0414, Val Acc: 64.90%\n"
     ]
    },
    {
     "name": "stderr",
     "output_type": "stream",
     "text": [
      "Epoch 18/30 - Training: 100%|██████████| 351/351 [03:24<00:00,  1.72it/s]\n",
      "Epoch 18/30 - Validation: 100%|██████████| 40/40 [00:15<00:00,  2.59it/s]\n"
     ]
    },
    {
     "name": "stdout",
     "output_type": "stream",
     "text": [
      "Epoch 18/30 || Train Loss: 0.9429, Train Acc: 66.45% || Val Loss: 1.0064, Val Acc: 65.00%\n"
     ]
    },
    {
     "name": "stderr",
     "output_type": "stream",
     "text": [
      "Epoch 19/30 - Training: 100%|██████████| 351/351 [03:23<00:00,  1.72it/s]\n",
      "Epoch 19/30 - Validation: 100%|██████████| 40/40 [00:15<00:00,  2.64it/s]\n"
     ]
    },
    {
     "name": "stdout",
     "output_type": "stream",
     "text": [
      "Epoch 19/30 || Train Loss: 0.9284, Train Acc: 67.04% || Val Loss: 1.0069, Val Acc: 65.50%\n"
     ]
    },
    {
     "name": "stderr",
     "output_type": "stream",
     "text": [
      "Epoch 20/30 - Training: 100%|██████████| 351/351 [03:22<00:00,  1.74it/s]\n",
      "Epoch 20/30 - Validation: 100%|██████████| 40/40 [00:15<00:00,  2.62it/s]\n"
     ]
    },
    {
     "name": "stdout",
     "output_type": "stream",
     "text": [
      "Epoch 20/30 || Train Loss: 0.9187, Train Acc: 67.39% || Val Loss: 0.9904, Val Acc: 65.22%\n"
     ]
    },
    {
     "name": "stderr",
     "output_type": "stream",
     "text": [
      "Epoch 21/30 - Training: 100%|██████████| 351/351 [03:26<00:00,  1.70it/s]\n",
      "Epoch 21/30 - Validation: 100%|██████████| 40/40 [00:14<00:00,  2.71it/s]\n"
     ]
    },
    {
     "name": "stdout",
     "output_type": "stream",
     "text": [
      "Epoch 21/30 || Train Loss: 0.9143, Train Acc: 67.47% || Val Loss: 0.9970, Val Acc: 65.98%\n"
     ]
    },
    {
     "name": "stderr",
     "output_type": "stream",
     "text": [
      "Epoch 22/30 - Training: 100%|██████████| 351/351 [03:18<00:00,  1.77it/s]\n",
      "Epoch 22/30 - Validation: 100%|██████████| 40/40 [00:15<00:00,  2.61it/s]\n"
     ]
    },
    {
     "name": "stdout",
     "output_type": "stream",
     "text": [
      "Epoch 22/30 || Train Loss: 0.8941, Train Acc: 68.14% || Val Loss: 0.9988, Val Acc: 65.28%\n"
     ]
    },
    {
     "name": "stderr",
     "output_type": "stream",
     "text": [
      "Epoch 23/30 - Training: 100%|██████████| 351/351 [03:24<00:00,  1.71it/s]\n",
      "Epoch 23/30 - Validation: 100%|██████████| 40/40 [00:15<00:00,  2.62it/s]\n"
     ]
    },
    {
     "name": "stdout",
     "output_type": "stream",
     "text": [
      "Epoch 23/30 || Train Loss: 0.8886, Train Acc: 68.59% || Val Loss: 0.9714, Val Acc: 65.98%\n"
     ]
    },
    {
     "name": "stderr",
     "output_type": "stream",
     "text": [
      "Epoch 24/30 - Training: 100%|██████████| 351/351 [03:22<00:00,  1.73it/s]\n",
      "Epoch 24/30 - Validation: 100%|██████████| 40/40 [00:14<00:00,  2.69it/s]\n"
     ]
    },
    {
     "name": "stdout",
     "output_type": "stream",
     "text": [
      "Epoch 24/30 || Train Loss: 0.8757, Train Acc: 69.05% || Val Loss: 0.9476, Val Acc: 67.02%\n"
     ]
    },
    {
     "name": "stderr",
     "output_type": "stream",
     "text": [
      "Epoch 25/30 - Training: 100%|██████████| 351/351 [03:25<00:00,  1.71it/s]\n",
      "Epoch 25/30 - Validation: 100%|██████████| 40/40 [00:15<00:00,  2.66it/s]\n"
     ]
    },
    {
     "name": "stdout",
     "output_type": "stream",
     "text": [
      "Epoch 25/30 || Train Loss: 0.8745, Train Acc: 69.11% || Val Loss: 0.9695, Val Acc: 66.80%\n"
     ]
    },
    {
     "name": "stderr",
     "output_type": "stream",
     "text": [
      "Epoch 26/30 - Training: 100%|██████████| 351/351 [03:22<00:00,  1.73it/s]\n",
      "Epoch 26/30 - Validation: 100%|██████████| 40/40 [00:15<00:00,  2.61it/s]\n"
     ]
    },
    {
     "name": "stdout",
     "output_type": "stream",
     "text": [
      "Epoch 26/30 || Train Loss: 0.8616, Train Acc: 69.44% || Val Loss: 0.9646, Val Acc: 66.48%\n"
     ]
    },
    {
     "name": "stderr",
     "output_type": "stream",
     "text": [
      "Epoch 27/30 - Training: 100%|██████████| 351/351 [03:24<00:00,  1.72it/s]\n",
      "Epoch 27/30 - Validation: 100%|██████████| 40/40 [00:15<00:00,  2.63it/s]\n"
     ]
    },
    {
     "name": "stdout",
     "output_type": "stream",
     "text": [
      "Epoch 27/30 || Train Loss: 0.8512, Train Acc: 69.88% || Val Loss: 1.0176, Val Acc: 64.92%\n"
     ]
    },
    {
     "name": "stderr",
     "output_type": "stream",
     "text": [
      "Epoch 28/30 - Training: 100%|██████████| 351/351 [03:23<00:00,  1.72it/s]\n",
      "Epoch 28/30 - Validation: 100%|██████████| 40/40 [00:15<00:00,  2.64it/s]\n"
     ]
    },
    {
     "name": "stdout",
     "output_type": "stream",
     "text": [
      "Epoch 28/30 || Train Loss: 0.8385, Train Acc: 70.53% || Val Loss: 0.9071, Val Acc: 68.10%\n"
     ]
    },
    {
     "name": "stderr",
     "output_type": "stream",
     "text": [
      "Epoch 29/30 - Training: 100%|██████████| 351/351 [03:27<00:00,  1.70it/s]\n",
      "Epoch 29/30 - Validation: 100%|██████████| 40/40 [00:15<00:00,  2.64it/s]\n"
     ]
    },
    {
     "name": "stdout",
     "output_type": "stream",
     "text": [
      "Epoch 29/30 || Train Loss: 0.8381, Train Acc: 70.34% || Val Loss: 0.9506, Val Acc: 67.42%\n"
     ]
    },
    {
     "name": "stderr",
     "output_type": "stream",
     "text": [
      "Epoch 30/30 - Training: 100%|██████████| 351/351 [03:22<00:00,  1.73it/s]\n",
      "Epoch 30/30 - Validation: 100%|██████████| 40/40 [00:14<00:00,  2.67it/s]"
     ]
    },
    {
     "name": "stdout",
     "output_type": "stream",
     "text": [
      "Epoch 30/30 || Train Loss: 0.8304, Train Acc: 70.80% || Val Loss: 0.9016, Val Acc: 68.64%\n",
      "Total training time: 1h 48m 48.60s\n"
     ]
    },
    {
     "name": "stderr",
     "output_type": "stream",
     "text": [
      "\n"
     ]
    }
   ],
   "source": [
    "num_epochs = 30\n",
    "learning_rate = 2e-4\n",
    "optimizer = optim.Adam(model.parameters(), lr=learning_rate)\n",
    "\n",
    "def train_model(model, train_loader, validation_loader, optimizer, num_epochs):\n",
    "    train_losses, val_losses = [], []\n",
    "    train_accuracies, val_accuracies = [], []\n",
    "\n",
    "    for epoch in range(num_epochs):\n",
    "        model.train()\n",
    "        running_loss, correct, total = 0.0, 0, 0\n",
    "\n",
    "        for input_data, labels in tqdm(train_loader, desc=f\"Epoch {epoch+1}/{num_epochs} - Training\"):\n",
    "\n",
    "            optimizer.zero_grad()\n",
    "            outputs = model(input_data)\n",
    "            loss = F.cross_entropy(outputs, labels)\n",
    "            loss.backward()\n",
    "            optimizer.step()\n",
    "\n",
    "            running_loss += loss.item()\n",
    "            _, predicted = torch.max(outputs, 1)\n",
    "            correct += (predicted == labels).sum().item()\n",
    "            total += labels.size(0)\n",
    "\n",
    "        train_loss = running_loss / len(train_loader)\n",
    "        train_accuracy = 100 * correct / total\n",
    "        train_losses.append(train_loss)\n",
    "        train_accuracies.append(train_accuracy)\n",
    "\n",
    "        model.eval()\n",
    "        val_loss, correct, total = 0.0, 0, 0\n",
    "        with torch.no_grad():\n",
    "            for input_data, labels in tqdm(validation_loader, desc=f\"Epoch {epoch+1}/{num_epochs} - Validation\"):\n",
    "\n",
    "                outputs = model(input_data)\n",
    "                val_loss += F.cross_entropy(outputs, labels).item()\n",
    "                _, predicted = torch.max(outputs, 1)\n",
    "                correct += (predicted == labels).sum().item()\n",
    "                total += labels.size(0)\n",
    "\n",
    "        val_loss /= len(validation_loader)\n",
    "        val_accuracy = 100 * correct / total\n",
    "        val_losses.append(val_loss)\n",
    "        val_accuracies.append(val_accuracy)\n",
    "\n",
    "        print(f\"Epoch {epoch+1}/{num_epochs} || \"\n",
    "              f\"Train Loss: {train_loss:.4f}, Train Acc: {train_accuracy:.2f}% || \"\n",
    "              f\"Val Loss: {val_loss:.4f}, Val Acc: {val_accuracy:.2f}%\")\n",
    "\n",
    "    return train_losses, val_losses, train_accuracies, val_accuracies\n",
    "\n",
    "# Training\n",
    "import time\n",
    "\n",
    "start_time = time.time()\n",
    "train_losses, val_losses, train_accuracies, val_accuracies = train_model(model, train_loader, validation_loader, optimizer, num_epochs)\n",
    "training_time = time.time() - start_time\n",
    "\n",
    "hours, remainder = divmod(training_time, 3600)\n",
    "minutes, seconds = divmod(remainder, 60)\n",
    "print(f\"Total training time: {int(hours)}h {int(minutes)}m {seconds:.2f}s\")"
   ]
  },
  {
   "cell_type": "code",
   "execution_count": 12,
   "metadata": {},
   "outputs": [
    {
     "data": {
      "image/png": "[encoded data removed]",
      "text/plain": [
       "<Figure size 1500x500 with 2 Axes>"
      ]
     },
     "metadata": {},
     "output_type": "display_data"
    }
   ],
   "source": [
    "plt.figure(figsize=(15, 5))\n",
    "plt.subplot(1, 2, 1)\n",
    "\n",
    "plt.plot(train_losses, label='Train Loss')\n",
    "plt.plot(val_losses, label='Validation Loss')\n",
    "plt.xlabel('Epoch')\n",
    "plt.ylabel('Loss')\n",
    "plt.title('MLP-Mixer - Loss/Epochs - NEpochs-30, LR-2e-4')\n",
    "plt.legend()\n",
    "\n",
    "plt.subplot(1, 2, 2)\n",
    "plt.plot(train_accuracies, label='Train Accuracy')\n",
    "plt.plot(val_accuracies, label='Validation Accuracy')\n",
    "plt.xlabel('Epoch')\n",
    "plt.ylabel('Accuracy')\n",
    "plt.title('MLP-Mixer - Accuracy/Epochs - NEpochs-30, LR-3e-4')\n",
    "plt.legend()\n",
    "\n",
    "plt.savefig('MLP-Mixer_Loss_Acc_lr2e-4.png', dpi=300, bbox_inches='tight')\n",
    "plt.show()"
   ]
  },
  {
   "cell_type": "code",
   "execution_count": 13,
   "metadata": {},
   "outputs": [
    {
     "name": "stderr",
     "output_type": "stream",
     "text": [
      "100%|██████████| 79/79 [00:20<00:00,  3.89it/s]"
     ]
    },
    {
     "name": "stdout",
     "output_type": "stream",
     "text": [
      "Test Loss: 0.9004, Test Accuracy: 68.32%\n",
      "Total testing time: 20.31 seconds\n"
     ]
    },
    {
     "name": "stderr",
     "output_type": "stream",
     "text": [
      "\n"
     ]
    }
   ],
   "source": [
    "def test_model(model, test_loader):\n",
    "    model.eval()\n",
    "    test_loss, correct, total = 0.0, 0, 0\n",
    "    predictions, all_labels = [], []\n",
    "    \n",
    "\n",
    "    with torch.no_grad():\n",
    "        for input_data, labels in tqdm(test_loader):\n",
    "            outputs = model(input_data)\n",
    "\n",
    "            loss_fn = nn.CrossEntropyLoss()\n",
    "            loss = loss_fn(outputs, labels)\n",
    "\n",
    "            test_loss += loss.item()\n",
    "            _, predicted = torch.max(outputs, 1)\n",
    "            total += labels.size(0)\n",
    "            correct += (predicted == labels).sum().item()\n",
    "            predictions.extend(predicted.numpy())\n",
    "            all_labels.extend(labels.numpy())\n",
    "\n",
    "    test_loss /= len(test_loader)\n",
    "    test_accuracy = 100 * correct / total\n",
    "    print(f\"Test Loss: {test_loss:.4f}, Test Accuracy: {test_accuracy:.2f}%\")\n",
    "\n",
    "    return predictions, all_labels, test_loss, test_accuracy\n",
    "\n",
    "start_time = time.time()\n",
    "predictions, all_labels, test_loss, test_accuracy = test_model(model, test_loader)\n",
    "testing_time = time.time() - start_time\n",
    "print(f\"Total testing time: {testing_time:.2f} seconds\")\n"
   ]
  },
  {
   "cell_type": "code",
   "execution_count": 14,
   "metadata": {},
   "outputs": [
    {
     "name": "stdout",
     "output_type": "stream",
     "text": [
      "Model Accuracy: 68.32%\n",
      "              precision    recall  f1-score   support\n",
      "\n",
      "    airplane       0.65      0.78      0.71      1000\n",
      "  automobile       0.69      0.86      0.76      1000\n",
      "        bird       0.63      0.51      0.57      1000\n",
      "         cat       0.55      0.45      0.50      1000\n",
      "        deer       0.65      0.62      0.64      1000\n",
      "         dog       0.68      0.54      0.60      1000\n",
      "        frog       0.64      0.87      0.74      1000\n",
      "       horse       0.71      0.77      0.74      1000\n",
      "        ship       0.86      0.74      0.80      1000\n",
      "       truck       0.80      0.69      0.74      1000\n",
      "\n",
      "    accuracy                           0.68     10000\n",
      "   macro avg       0.69      0.68      0.68     10000\n",
      "weighted avg       0.69      0.68      0.68     10000\n",
      "\n"
     ]
    },
    {
     "data": {
      "image/png": "[encoded data removed]",
      "text/plain": [
       "<Figure size 1200x600 with 2 Axes>"
      ]
     },
     "metadata": {},
     "output_type": "display_data"
    }
   ],
   "source": [
    "from sklearn.metrics import confusion_matrix, classification_report, accuracy_score\n",
    "import seaborn as sns\n",
    "\n",
    "print(f\"Model Accuracy: {accuracy_score(all_labels, predictions) * 100:.2f}%\")\n",
    "print(classification_report(all_labels, predictions, target_names=test_set.classes))\n",
    "\n",
    "cm = confusion_matrix(all_labels, predictions)\n",
    "plt.figure(figsize=(12, 6))\n",
    "sns.heatmap(cm, annot=True, fmt='d', cmap='OrRd',linewidths=.5,\n",
    "            xticklabels=test_set.classes, yticklabels=test_set.classes)\n",
    "plt.xlabel('Predicted Labels')\n",
    "plt.ylabel('True Labels')\n",
    "plt.title('MLP-Mixer-ConfMat - LR 2e-4')\n",
    "plt.savefig(\"MLP-Mixer_ConfMat_lr2e-4.png\",dpi=300,bbox_inches=\"tight\")\n",
    "plt.show()"
   ]
  },
  {
   "cell_type": "markdown",
   "metadata": {},
   "source": [
    "As it appears, increasing ``num_blocks`` for MLP-Mixer block is not a good idea; better would be to increase ``hidden_dim``, ``tokens_mlp_dim``  and ``channels_mlp_dim``\n",
    "\n",
    "For ``num_epochs = 10`` and ``learning_rate = 2e-4``, we are conducting experiment\n",
    "\n",
    "| Ex | Mixer blocks | hidden dim | token_mlp_dim | channels_mlp_dim | Parameters | Training Time | Training Accuracy | Validation Accuracy | Model (test) Accuracy|\n",
    "|------|------|------|------|------|------|------|------|------|-----|\n",
    "|1| 8 | 128 | 64| 512 |   1,132,170  | 0:41 Hr| 68.9 |  69.66 |69.09 |\n",
    "|2| 8 | 256 | 128 | 1024 | 4,360,970 | 2:14 Hr| 74.95 | 74.30 | 74.36|\n",
    "|3| 2 | 256 | 128 | 1024 | 1,101,962 | 0:33 Hr| 68.11 | 67.72 | 66.76|\n",
    "|4| 1 | 256 | 128 | 1024 | 558,794  |  0:17 Hr| 58.71 | 58.52 | 58.03|\n",
    "|5| 1 | 512 | 256 | 2048 | 2,166,090 | 0:54 Hr| 61.75 | 61.20 | 61.24|\n",
    "|6| 1 | 512 | 256 | 1024 | 1,116,490 | 0:35 Hr| 62.43 | 60.96 |60.28 |\n",
    "|7| 1 | 256 | 256 | 1024 |   575,306 | 0:20 Hr| 59.07 | 58.18 | 57.89|\n",
    "|8| 1 | 512 | 512 | 1024 | 1,149,514 | 0:46 Hr| 62.26 | 60.80 | 60.90|\n",
    "|9| 1 | 512 | 128 | 1024 | 1,099,978 | 0:30 Hr| 60.14 | 57.70 | 57.26|\n",
    "\n",
    "We have decided to proceed with 1 Mixer Block (and changed code accordingly), and then using following parameters:\n",
    "\n",
    "- hidden_dim = 512\n",
    "- tokens_mlp_dim = 256\n",
    "- channels_mlp_dim  = 1024 \n",
    "\n",
    "and then run for $30$ epochs with learning_rate as $2e-4$. Our results\n",
    "\n",
    "| Ex  | Training Parameters | Training Time | Learning Rate | No. Epochs | Training Accuracy | Training Loss | Validation Accuracy | Validation Loss | MODEL ACCURACY|\n",
    "|-------|------|--------|--------|----------|---------|--------|-------|-------|---------|\n",
    "|1 |  1, 116, 490 | 1:48 Hr | 2e-4 | 30 | 70.80  |  | 68.64 |0.90 | 68.32|"
   ]
  }
 ],
 "metadata": {
  "kernelspec": {
   "display_name": "ml_env",
   "language": "python",
   "name": "python3"
  },
  "language_info": {
   "codemirror_mode": {
    "name": "ipython",
    "version": 3
   },
   "file_extension": ".py",
   "mimetype": "text/x-python",
   "name": "python",
   "nbconvert_exporter": "python",
   "pygments_lexer": "ipython3",
   "version": "3.9.9"
  }
 },
 "nbformat": 4,
 "nbformat_minor": 2
}
